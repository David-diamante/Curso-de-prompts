{
 "cells": [
  {
   "cell_type": "markdown",
   "id": "44266dc1-fec8-4c2e-9a82-370a57b9ec8b",
   "metadata": {},
   "source": [
    "Trabajo parcial: Idea alquímica \"prompt de recetas de cocina\"\n",
    "\n",
    "Resumen\n",
    "Se trata de generar recetas de cocina a partir de ingredientes propuestos por el usuario.\n",
    "\n",
    "Índice\n",
    "\n",
    "1- Introducción\n",
    "2- Objetivos\n",
    "3- Metodología\n",
    "4- Herramientas y Tecnologías\n",
    "5- Implementación\n",
    "\n",
    "1. Introducción\n",
    "En una primera instancia describir brevemente cinco recetas a partir de ingredientes propuestos. En una segunda instancia el usuario pide detallar una de las recetas listadas con el nombre o número de lista.\n",
    "\n",
    "2. Objetivos\n",
    "Que el usuario utilice el prompt para obtener recetas útiles.\n",
    "\n",
    "3. Metodología\n",
    "El usuario lista los ingredientes que quiere en sus recetas. Procesamiento de Texto: Utilizar GPT-3.5 para generar un listado de recetas con los ingredientes propuestos.\n",
    "\n",
    "4. Herramientas y Tecnologías\n",
    "Python\n",
    "OpenAI GPT-3.5-turbo API\n"
   ]
  },
  {
   "cell_type": "code",
   "execution_count": null,
   "id": "b194d8ce-eb23-40aa-ab68-f61e7b2effc8",
   "metadata": {},
   "outputs": [],
   "source": [
    "# 5. Implementación\n",
    "#Import openAI dependences (module)\n",
    "\n",
    "import openai"
   ]
  },
  {
   "cell_type": "code",
   "execution_count": null,
   "id": "023de665-60b5-4728-807e-fed7293582f6",
   "metadata": {},
   "outputs": [],
   "source": [
    "#Add our API Key copied from openAI page\n",
    "openai.api_key = \"\""
   ]
  },
  {
   "cell_type": "code",
   "execution_count": null,
   "id": "487c2471-a07c-4485-9b2e-a7f5086361a5",
   "metadata": {},
   "outputs": [],
   "source": [
    "#Make the context of our prompt envoirement\n",
    "context = \"Toma el lugar de un chef de un restaurante de media categoria. Recomienda 3 recetas con una muy breve reseña de cada una de ellas con los ingredientes que pone el usuario.\"\n",
    "\n",
    "#prompt (text/user's question)\n",
    "prompt = \"Pollo y Tomates\""
   ]
  },
  {
   "cell_type": "code",
   "execution_count": null,
   "id": "9eea7370-2c2b-4854-93f4-caae0415f1b5",
   "metadata": {},
   "outputs": [],
   "source": [
    "# Make the request\n",
    "conversation = [\n",
    "    {\"role\": \"system\", \"content\": context},\n",
    "    {\"role\": \"user\", \"content\": prompt}\n",
    "]\n",
    "\n",
    "response = openai.ChatComplgit etion.create(\n",
    "    model=\"gpt-3.5-turbo\",\n",
    "    messages=conversation,\n",
    "    max_tokens=100\n",
    ")\n",
    "\n",
    "message = response.choices[0][\"message\"]\n",
    "print(\"{}: {}\".format(message[\"role\"], message[\"content\"]))"
   ]
  }
 ],
 "metadata": {
  "kernelspec": {
   "display_name": "Python 3 (ipykernel)",
   "language": "python",
   "name": "python3"
  },
  "language_info": {
   "codemirror_mode": {
    "name": "ipython",
    "version": 3
   },
   "file_extension": ".py",
   "mimetype": "text/x-python",
   "name": "python",
   "nbconvert_exporter": "python",
   "pygments_lexer": "ipython3",
   "version": "3.10.13"
  }
 },
 "nbformat": 4,
 "nbformat_minor": 5
}
