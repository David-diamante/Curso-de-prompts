{
 "cells": [
  {
   "cell_type": "markdown",
   "id": "ddcdb19e-a914-46ec-b315-be17b7727234",
   "metadata": {},
   "source": [
    "Trabajo parcial: Idea alquímica \"prompt de recetas de cocina\"\n",
    "\n",
    "Resumen Se trata de generar recetas de cocina a partir de ingredientes propuestos por el usuario.\n",
    "\n",
    "Índice\n",
    "\n",
    "1- Introducción 2- Objetivos 3- Metodología 4- Herramientas y Tecnologías 5- Implementación\n",
    "\n",
    "Introducción En una primera instancia describir brevemente tres recetas a partir de ingredientes propuestos. En una segunda instancia el usuario pide detallar una de las recetas listadas con el nombre o número de lista.\n",
    "\n",
    "Objetivos Que el usuario utilice el prompt para obtener recetas útiles.\n",
    "\n",
    "Metodología El usuario lista los ingredientes que quiere en sus recetas. Procesamiento de Texto: Utilizar GPT-3.5 para generar un listado de recetas con los ingredientes propuestos.\n",
    "\n",
    "Herramientas y Tecnologías Python OpenAI GPT-3.5-turbo API"
   ]
  },
  {
   "cell_type": "code",
   "execution_count": 49,
   "id": "9a5f88ad-0ee6-4aaa-9658-a1941d1bd780",
   "metadata": {},
   "outputs": [],
   "source": [
    "# Importamos las dependencias de OpenAI\n",
    "import openai"
   ]
  },
  {
   "cell_type": "code",
   "execution_count": 50,
   "id": "3ec7ef24-22ea-421a-ae6d-ab5a967ba53b",
   "metadata": {},
   "outputs": [],
   "source": [
    "# Agregamos nuestra clave de API de OpenAI\n",
    "openai.api_key = \"Borro pq me la borra\""
   ]
  },
  {
   "cell_type": "code",
   "execution_count": 53,
   "id": "1b1649dd-591e-4933-be7c-886621af301a",
   "metadata": {},
   "outputs": [
    {
     "name": "stdin",
     "output_type": "stream",
     "text": [
      "Por favor, introduce hasta dos ingredientes separados por comas:  Pollo, Esparragos\n"
     ]
    },
    {
     "name": "stdout",
     "output_type": "stream",
     "text": [
      "['Pollo', ' Esparragos']\n"
     ]
    }
   ],
   "source": [
    "# Creamos el contexto de nuestro entorno de solicitud\n",
    "context = \"Toma el lugar de un chef de un restaurante de media categoría. Recomienda 3 recetas con una muy breve reseña de cada una de ellas 3con los ingredientes que pone el usuario.\"\n",
    "\n",
    "# Solicitamos al usuario que ingrese hasta dos ingredientes separados por comas\n",
    "ingredientes = input(\"Por favor, introduce hasta dos ingredientes separados por comas: \").split(\",\")\n",
    "print (ingredientes)"
   ]
  },
  {
   "cell_type": "code",
   "execution_count": 54,
   "id": "a384beef-0891-4d4c-bbeb-cb2b0cafa754",
   "metadata": {},
   "outputs": [],
   "source": [
    "# Limpiamos los espacios en blanco alrededor de los ingredientes y filtramos los ingredientes vacíos\n",
    "ingredientes = [ingrediente.strip() for ingrediente in ingredientes]\n",
    "ingredientes = list(filter(None, ingredientes))\n",
    "\n",
    "# Verificamos la cantidad de ingredientes proporcionados por el usuario\n",
    "if len(ingredientes) == 0:\n",
    "    print(\"Por favor, introduce al menos un ingrediente.\")\n",
    "elif len(ingredientes) > 2:\n",
    "    print(\"Por favor, introduce como máximo dos ingredientes.\")\n",
    "else:\n",
    "    # Generamos el prompt con los ingredientes proporcionados por el usuario\n",
    "    prompt = \", \".join(ingredientes)"
   ]
  },
  {
   "cell_type": "code",
   "execution_count": 55,
   "id": "53f5bed9-41e1-4f7e-832e-5eca91686c7f",
   "metadata": {},
   "outputs": [
    {
     "name": "stdout",
     "output_type": "stream",
     "text": [
      "Recetas Disponibles:\n",
      "1. 1. Pechugas de pollo a la parrilla con espárragos a la mantequilla de ajo:\n",
      "   Ingredientes:\n",
      "   - Pechugas de pollo\n",
      "   - Espárragos frescos\n",
      "   - Mantequilla\n",
      "   - Ajo\n",
      "   Esta receta combina la jugosidad del pollo a la parrilla con el sabor fresco de los espárragos y el toque aromático de la mantequilla de ajo. ¡Una deliciosa opción para cualquier día de la semana!\n",
      "2. 2. Ensalada de pollo y espárragos con vinagreta de limón:\n",
      "   Ingredientes:\n",
      "   - Pechuga de pollo cocida y desmenuzada\n",
      "   - Espárragos cortados en trozos\n",
      "   - Lechuga variada\n",
      "   - Limón\n",
      "   - Aceite de oliva\n",
      "   Esta ensalada fresca y ligera combina la proteína del pollo con la frescura de los espárragos y el toque cítrico de la vinagreta de limón. Perfecta como plato principal o acompañante.\n",
      "3. 3. Risotto de pollo y espárragos:\n",
      "   Ingredientes:\n",
      "   - Pechuga de pollo en cubos\n",
      "   - Espárragos cortados en trozos\n",
      "   - Arroz arborio\n",
      "   - Caldo de pollo\n",
      "   - Queso parmesano\n",
      "   El risotto es un plato reconfortante y delicioso, y esta versión con pollo y espárragos no es la excepción. La cremosidad del arroz, junto con el sabor de los espárragos y el pollo, harán las delicias de tus comensales. ¡Una receta elegante y sabrosa!\n"
     ]
    },
    {
     "name": "stdin",
     "output_type": "stream",
     "text": [
      "Seleccione el número de la receta que desea:  3\n"
     ]
    }
   ],
   "source": [
    "    # Creamos la primera conversación para obtener las recetas recomendadas\n",
    "    conversation = [\n",
    "        {\"role\": \"system\", \"content\": context},\n",
    "        {\"role\": \"user\", \"content\": prompt}\n",
    "    ]\n",
    "\n",
    "    # Obtenemos la respuesta de OpenAI\n",
    "    response = openai.ChatCompletion.create(\n",
    "        model=\"gpt-3.5-turbo\",\n",
    "        messages=conversation,\n",
    "        max_tokens=700\n",
    "    )\n",
    "\n",
    "    # Extraemos las recetas recomendadas de la respuesta\n",
    "    message = response.choices[0][\"message\"]\n",
    "    recipes = message[\"content\"].split(\"\\n\\n\")\n",
    "\n",
    "    # Imprimimos las recetas disponibles\n",
    "    print(\"Recetas Disponibles:\")\n",
    "    for i, recipe in enumerate(recipes, start=1):\n",
    "        print(f\"{i}. {recipe}\")\n",
    "\n",
    "    # Solicitamos al usuario que seleccione una receta\n",
    "    selected_recipe_index = int(input(\"Seleccione el número de la receta que desea: \"))"
   ]
  },
  {
   "cell_type": "code",
   "execution_count": 56,
   "id": "a3ce2e54-3eed-45a5-a91b-1acf6840b524",
   "metadata": {
    "scrolled": true
   },
   "outputs": [
    {
     "name": "stdout",
     "output_type": "stream",
     "text": [
      "\n",
      "Pasos detallados para realizar la receta:\n",
      "¡Claro! Aquí tienes los pasos detallados para preparar un delicioso Risotto de pollo y espárragos:\n",
      "\n",
      "1. En una olla grande, calienta un poco de aceite de oliva a fuego medio-alto. Agrega los trozos de pechuga de pollo y cocina hasta que estén dorados por todos lados. Retira el pollo de la olla y reserva.\n",
      "\n",
      "2. En la misma olla, agrega un poco más de aceite de oliva y añade los espárragos cortados en trozos. Sofríe por unos minutos hasta que estén tiernos. Retira los espárragos de la olla y reserva.\n",
      "\n",
      "3. En la misma olla, agrega un poco más de aceite de oliva y añade el arroz arborio. Sofríe el arroz por unos minutos, revolviendo constantemente, hasta que esté ligeramente dorado.\n",
      "\n",
      "4. Agrega poco a poco el caldo de pollo caliente a la olla, aproximadamente una taza a la vez, y remueve constantemente hasta que el líquido se haya absorbido antes de agregar más caldo. Continúa este proceso hasta que el arroz esté tierno y haya absorbido casi todo el caldo. Este paso tomará aproximadamente 18-20 minutos.\n",
      "\n",
      "5. Agrega el pollo dorado y los espárragos a la olla con el arroz. Mezcla bien para combinar todos los ingredientes.\n",
      "\n",
      "6. Retira la olla del fuego y agrega el queso parmesano rallado. Revuelve para que el queso se derrita y se integre con el risotto.\n",
      "\n",
      "7. Rectifica la sazón, agregando sal y pimienta al gusto.\n",
      "\n",
      "8. Sirve el risotto de pollo y espárragos caliente, espolvoreado con un poco de queso parmesano adicional si lo deseas. ¡Disfruta de este increíble plato cremoso y sabroso!\n",
      "\n",
      "Espero que disfrutes preparando y degustando este delicioso risotto de pollo y espárragos. ¡Buen provecho!\n"
     ]
    }
   ],
   "source": [
    "    # Creamos la segunda conversación para obtener los pasos detallados de la receta seleccionada\n",
    "    selected_recipe = recipes[selected_recipe_index - 1]\n",
    "    selected_recipe_prompt = f\"Detalles de la receta seleccionada: {selected_recipe}\"\n",
    "\n",
    "    conversation = [\n",
    "        {\"role\": \"system\", \"content\": selected_recipe_prompt},\n",
    "        {\"role\": \"user\", \"content\": \"Pasos detallados\"}\n",
    "    ]\n",
    "\n",
    "    # Obtenemos la respuesta de OpenAI con los pasos detallados de la receta seleccionada\n",
    "    response = openai.ChatCompletion.create(\n",
    "        model=\"gpt-3.5-turbo\",\n",
    "        messages=conversation,\n",
    "        max_tokens=500\n",
    "    )\n",
    "\n",
    "    # Imprimimos los pasos detallados de la receta\n",
    "    print(\"\\nPasos detallados para realizar la receta:\")\n",
    "    print(response.choices[0][\"message\"][\"content\"])"
   ]
  },
  {
   "cell_type": "code",
   "execution_count": null,
   "id": "77e7b6ca-ad9b-4e31-baec-d15a1094a26a",
   "metadata": {},
   "outputs": [],
   "source": []
  }
 ],
 "metadata": {
  "kernelspec": {
   "display_name": "Python 3 (ipykernel)",
   "language": "python",
   "name": "python3"
  },
  "language_info": {
   "codemirror_mode": {
    "name": "ipython",
    "version": 3
   },
   "file_extension": ".py",
   "mimetype": "text/x-python",
   "name": "python",
   "nbconvert_exporter": "python",
   "pygments_lexer": "ipython3",
   "version": "3.12.2"
  }
 },
 "nbformat": 4,
 "nbformat_minor": 5
}
