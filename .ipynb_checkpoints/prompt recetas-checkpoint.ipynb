{
 "cells": [
  {
   "cell_type": "markdown",
   "id": "f291e06b-8057-4154-bb4b-14d7f5ea3cc7",
   "metadata": {},
   "source": [
    "                                                    Trabajo Final\n",
    "                                            \"prompt de recetas de cocina\"\n",
    "\n",
    "Resumen Se trata de generar recetas de cocina a partir de ingredientes propuestos por el usuario.\n",
    "\n",
    "Índice\n",
    "\n",
    "1- Introducción 2- Objetivos 3- Metodología 4- Herramientas y Tecnologías 5- Implementación\n",
    "\n",
    "Introducción:\n",
    "El primer prompt describe brevemente tres recetas a partir de ingredientes propuestos por el usuario.\n",
    "En segunda instancia el usuario pide detallar una de las recetas listadas con el nombre o número de lista.\n",
    "En la tercera instancia se genera una imagen de la receta seleccionada.\n",
    "\n",
    "Objetivos: Que el usuario utilice el prompt para obtener recetas útiles.\n",
    "\n",
    "Metodología: Utilizar GPT-3.5 para generar un listado de recetas con los ingredientes propuestos.\n",
    "\n",
    "Herramientas y Tecnologías Python OpenAI GPT-3.5-turbo y de imagen.\n",
    "La imagen generada se guarda en una sub carpeta de la misma ubicación del repositorio."
   ]
  },
  {
   "cell_type": "code",
   "execution_count": null,
   "id": "04c3892f-6dec-43d9-8951-6d0e7b3cc3a2",
   "metadata": {},
   "outputs": [],
   "source": [
    "# Importamos las dependencias de OpenAI y demas\n",
    "import openai\n",
    "import requests\n",
    "import os\n",
    "from io import BytesIO\n",
    "from PIL import Image\n",
    "#Esto lo uso al final para mostrar un listado de recetas aunque no encontre un listado para jugar con pandas\n",
    "import csv"
   ]
  },
  {
   "cell_type": "code",
   "execution_count": null,
   "id": "3b50b5d6-bc03-4689-b1dd-e30db86b9585",
   "metadata": {
    "jp-MarkdownHeadingCollapsed": true
   },
   "outputs": [],
   "source": [
    "# Agregamos nuestra clave de API de OpenAI\n",
    "openai.api_key = \"No deja subir con la key\""
   ]
  },
  {
   "cell_type": "code",
   "execution_count": null,
   "id": "35564086-ed12-48af-918b-733bbaf06b86",
   "metadata": {
    "jp-MarkdownHeadingCollapsed": true
   },
   "outputs": [],
   "source": [
    "# Creamos el contexto de nuestro entorno de solicitud\n",
    "context = \"Toma el lugar de un chef de un restaurante de media categoría. Recomienda 3 recetas con una muy breve reseña de cada una de ellas con los ingredientes que pone el usuario.\"\n",
    "\n",
    "# La presentación\n",
    "class Chef:\n",
    "    def __init__(self, nombre, restaurante):\n",
    "        self.nombre = nombre\n",
    "        self.restaurante = restaurante\n",
    "\n",
    "    def presentacion(self):\n",
    "        print(f\"Soy {self.nombre}, chef del restaurant {self.restaurante}. Estoy aca para compartirte algunas deliciosas recetas, por favor introduce los ingredientes que quieras.\")\n",
    "\n",
    "# Crear una instancia de la clase Chef\n",
    "chef_principal = Chef(\"David\", \"MangiaTutto\")\n",
    "# Mostrar la presentación en pantalla\n",
    "chef_principal.presentacion()\n",
    "\n",
    "ingredientes = []\n",
    "\n",
    "while True:\n",
    "    ingrediente = input(\"Ingrese un ingrediente: \")\n",
    "    ingredientes.append(ingrediente)\n",
    "    agregar_otro = input(\"¿Desea agregar otro ingrediente? (si/no): \")\n",
    "    if agregar_otro.lower() != 'si':\n",
    "        break\n",
    "\n",
    "print(\"Preparare unas recetas con:\", ingredientes)"
   ]
  },
  {
   "cell_type": "code",
   "execution_count": null,
   "id": "31728ea2-37e7-4aa9-bb87-97dcdce334ac",
   "metadata": {
    "jp-MarkdownHeadingCollapsed": true
   },
   "outputs": [],
   "source": [
    "    # Generamos el prompt con los ingredientes proporcionados por el usuario\n",
    "    prompt = \", \".join(ingredientes)\n",
    "\n",
    "    # Creamos la primera conversación para obtener las recetas recomendadas\n",
    "    conversation = [\n",
    "        {\"role\": \"system\", \"content\": context},\n",
    "        {\"role\": \"user\", \"content\": prompt}\n",
    "    ]\n",
    "\n",
    "    # Obtenemos la respuesta de OpenAI\n",
    "    response = openai.ChatCompletion.create(\n",
    "        model=\"gpt-3.5-turbo\",\n",
    "        messages=conversation,\n",
    "        max_tokens=500\n",
    "    )\n",
    "\n",
    "    # Extraemos las recetas recomendadas de la respuesta\n",
    "    message = response.choices[0][\"message\"]\n",
    "    recipes = message[\"content\"].split(\"\\n\\n\")\n",
    "\n",
    "    # Imprimimos las recetas disponibles\n",
    "    print(\"¡Te recomiendo las siguientes recetas!\")\n",
    "    for i, recipe in enumerate(recipes, start=1):\n",
    "        print(f\"{i}. {recipe}\")\n",
    "\n",
    "    # Solicitamos al usuario que seleccione una receta\n",
    "    selected_recipe_index = int(input(\"Selecciona el número de la receta que deseas: \"))"
   ]
  },
  {
   "cell_type": "code",
   "execution_count": null,
   "id": "45996c6c-7e72-48a6-8065-c31dde83bb49",
   "metadata": {
    "jp-MarkdownHeadingCollapsed": true
   },
   "outputs": [],
   "source": [
    "    # Creamos la segunda conversación para obtener los pasos detallados de la receta seleccionada\n",
    "    selected_recipe = recipes[selected_recipe_index - 1]\n",
    "    selected_recipe_prompt = f\"Detalles de la receta seleccionada: {selected_recipe}\"\n",
    "\n",
    "    conversation = [\n",
    "        {\"role\": \"system\", \"content\": selected_recipe_prompt},\n",
    "        {\"role\": \"user\", \"content\": \"Pasos detallados\"}\n",
    "    ]\n",
    "\n",
    "    # Obtenemos la respuesta de OpenAI con los pasos detallados de la receta seleccionada\n",
    "    response = openai.ChatCompletion.create(\n",
    "        model=\"gpt-3.5-turbo\",\n",
    "        messages=conversation,\n",
    "        max_tokens=700\n",
    "    )\n",
    "\n",
    "    # Imprimimos los pasos detallados de la receta\n",
    "    print(\"\\nPasos detallados para realizar la receta:\")\n",
    "\n",
    "    print(response.choices[0][\"message\"][\"content\"])"
   ]
  },
  {
   "cell_type": "markdown",
   "id": "95159522-b6b1-4c50-837a-1ef4773c2348",
   "metadata": {
    "jp-MarkdownHeadingCollapsed": true
   },
   "source": [
    "Almacenamos la receta para la imagen."
   ]
  },
  {
   "cell_type": "code",
   "execution_count": null,
   "id": "d8b75404-e774-4b82-b64d-c4d78226db4b",
   "metadata": {
    "jp-MarkdownHeadingCollapsed": true
   },
   "outputs": [],
   "source": [
    "#Almacena la respuesta\n",
    "foto_receta = response['choices'][0]['message']['content'].strip()\n"
   ]
  },
  {
   "cell_type": "markdown",
   "id": "820c3c05-0805-410c-b916-1feac2a7ab96",
   "metadata": {
    "jp-MarkdownHeadingCollapsed": true
   },
   "source": [
    "Prompt para la creacion de la imagen "
   ]
  },
  {
   "cell_type": "code",
   "execution_count": null,
   "id": "ae6a19e3-ba2e-4d78-adcb-2ac8fae914ce",
   "metadata": {
    "jp-MarkdownHeadingCollapsed": true
   },
   "outputs": [],
   "source": [
    "# Prompt para la imagen\n",
    "recipe_from_phase = f\"Utilizando la receta seleccionada como base: {selected_recipe}, crea una imagen realista que incluya detalles como la textura, color y tamaño de las porciones, elige una vajilla y utensillos acorde a la receta y agrega adornos adicionales que realcen la receta\"\n",
    "\n",
    "# Agrego mensaje con el promp de imagen\n",
    "conversation.append({\"role\": \"user\", \"content\": recipe_from_phase})\n",
    "\n",
    "# respuesta\n",
    "image_response = openai.Image.create(\n",
    "    prompt=recipe_from_phase,\n",
    "    n=1,\n",
    "    size=\"512x512\"\n",
    ")\n",
    "\n",
    "# genera la URL\n",
    "print(image_response['data'][0]['url'])"
   ]
  },
  {
   "cell_type": "markdown",
   "id": "cf25e0ea-2122-435f-8f6b-a72725e9800b",
   "metadata": {
    "jp-MarkdownHeadingCollapsed": true
   },
   "source": [
    "Descarga la imagen a una carpeta"
   ]
  },
  {
   "cell_type": "code",
   "execution_count": null,
   "id": "336c972e-1e5f-4c8d-98b8-5cb9cdae97b5",
   "metadata": {
    "jp-MarkdownHeadingCollapsed": true
   },
   "outputs": [],
   "source": [
    "# Descarga la imagen\n",
    "response = requests.get(image_response['data'][0]['url'])\n",
    "\n",
    "# verifica si es posible descargar\n",
    "if response.status_code == 200:\n",
    "    # Get filename\n",
    "    filename = os.path.basename(image_response['data'][0]['url'])\n",
    "        # Agregar la extensión \".png\"\n",
    "    filename += \".png\"\n",
    "    \n",
    "    # Directorio\n",
    "    directory = \"./generated_images/\"\n",
    "    \n",
    "    if not os.path.exists(directory):\n",
    "        os.makedirs(directory)\n",
    "    \n",
    "    filepath = os.path.join(directory, filename)\n",
    "    \n",
    "    # Guarda la imagen\n",
    "    with open(filepath, 'wb') as f:\n",
    "        f.write(response.content)\n",
    "        \n",
    "    print(\"La imagen ha sido descargada y almacenada correctamente en:\", filepath)\n",
    "\n",
    "\n",
    "else:\n",
    "    print(\"Hubo un error al descargar la imagen.\")"
   ]
  },
  {
   "cell_type": "code",
   "execution_count": null,
   "id": "60edc6dd-b703-4f9e-8401-4c23b3d14610",
   "metadata": {},
   "outputs": [],
   "source": [
    "\n",
    "#Tabla como para ver su uso\n",
    "#Una idea era mostrar las recetas mas seleccionadas y esas cosas\n",
    "# Función para leer y mostrar la tabla\n",
    "def mostrar_tabla(nombre_archivo):\n",
    "    try:\n",
    "        with open(nombre_archivo, 'r', newline='') as archivo_csv:\n",
    "            lector_csv = csv.reader(archivo_csv)\n",
    "            for fila in lector_csv:\n",
    "                print(fila)\n",
    "    except FileNotFoundError:\n",
    "        print(\"El archivo no se encontró.\")\n",
    "\n",
    "# Nombre del archivo CSV\n",
    "nombre_archivo = \"listado_recetas.csv\"\n",
    "\n",
    "# Llamar a la función para mostrar la tabla\n",
    "mostrar_tabla(nombre_archivo)\n"
   ]
  }
 ],
 "metadata": {
  "kernelspec": {
   "display_name": "Python 3 (ipykernel)",
   "language": "python",
   "name": "python3"
  },
  "language_info": {
   "codemirror_mode": {
    "name": "ipython",
    "version": 3
   },
   "file_extension": ".py",
   "mimetype": "text/x-python",
   "name": "python",
   "nbconvert_exporter": "python",
   "pygments_lexer": "ipython3",
   "version": "3.10.14"
  }
 },
 "nbformat": 4,
 "nbformat_minor": 5
}
